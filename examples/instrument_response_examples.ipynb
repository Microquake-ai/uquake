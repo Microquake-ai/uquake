{
 "cells": [
  {
   "cell_type": "code",
   "execution_count": 2,
   "outputs": [
    {
     "ename": "ModuleNotFoundError",
     "evalue": "No module named 'utm'",
     "output_type": "error",
     "traceback": [
      "\u001B[0;31m---------------------------------------------------------------------------\u001B[0m",
      "\u001B[0;31mModuleNotFoundError\u001B[0m                       Traceback (most recent call last)",
      "Cell \u001B[0;32mIn[2], line 1\u001B[0m\n\u001B[0;32m----> 1\u001B[0m \u001B[38;5;28;01mfrom\u001B[39;00m \u001B[38;5;21;01muquake\u001B[39;00m\u001B[38;5;21;01m.\u001B[39;00m\u001B[38;5;21;01mcore\u001B[39;00m\u001B[38;5;21;01m.\u001B[39;00m\u001B[38;5;21;01minventory\u001B[39;00m \u001B[38;5;28;01mimport\u001B[39;00m GenericSensor, System\n",
      "File \u001B[0;32m~/repos/museis.ai/uquake/uquake/__init__.py:19\u001B[0m\n\u001B[1;32m     17\u001B[0m __version__ \u001B[38;5;241m=\u001B[39m \u001B[38;5;124m'\u001B[39m\u001B[38;5;124m0.3.1\u001B[39m\u001B[38;5;124m'\u001B[39m\n\u001B[1;32m     18\u001B[0m \u001B[38;5;28m__import__\u001B[39m(\u001B[38;5;124m'\u001B[39m\u001B[38;5;124mpkg_resources\u001B[39m\u001B[38;5;124m'\u001B[39m)\u001B[38;5;241m.\u001B[39mdeclare_namespace(\u001B[38;5;18m__name__\u001B[39m)\n\u001B[0;32m---> 19\u001B[0m \u001B[38;5;28;01mfrom\u001B[39;00m \u001B[38;5;21;01m.\u001B[39;00m\u001B[38;5;21;01mcore\u001B[39;00m \u001B[38;5;28;01mimport\u001B[39;00m read, read_events, read_inventory\n",
      "File \u001B[0;32m~/repos/museis.ai/uquake/uquake/core/__init__.py:16\u001B[0m\n\u001B[1;32m      1\u001B[0m \u001B[38;5;66;03m# Copyright (C) 2023, Jean-Philippe Mercier\u001B[39;00m\n\u001B[1;32m      2\u001B[0m \u001B[38;5;66;03m#\u001B[39;00m\n\u001B[1;32m      3\u001B[0m \u001B[38;5;66;03m# This program is free software: you can redistribute it and/or modify\u001B[39;00m\n\u001B[0;32m   (...)\u001B[0m\n\u001B[1;32m     13\u001B[0m \u001B[38;5;66;03m# You should have received a copy of the GNU Affero General Public License\u001B[39;00m\n\u001B[1;32m     14\u001B[0m \u001B[38;5;66;03m# along with this program.  If not, see <http://www.gnu.org/licenses/>.\u001B[39;00m\n\u001B[0;32m---> 16\u001B[0m \u001B[38;5;28;01mfrom\u001B[39;00m \u001B[38;5;21;01m.\u001B[39;00m\u001B[38;5;21;01mevent\u001B[39;00m \u001B[38;5;28;01mimport\u001B[39;00m read_events, Event, Catalog\n\u001B[1;32m     17\u001B[0m \u001B[38;5;28;01mfrom\u001B[39;00m \u001B[38;5;21;01m.\u001B[39;00m\u001B[38;5;21;01mstream\u001B[39;00m \u001B[38;5;28;01mimport\u001B[39;00m read, Stream, Trace\n\u001B[1;32m     18\u001B[0m \u001B[38;5;28;01mfrom\u001B[39;00m \u001B[38;5;21;01m.\u001B[39;00m\u001B[38;5;21;01minventory\u001B[39;00m \u001B[38;5;28;01mimport\u001B[39;00m read_inventory\n",
      "File \u001B[0;32m~/repos/museis.ai/uquake/uquake/core/event.py:44\u001B[0m\n\u001B[1;32m     42\u001B[0m \u001B[38;5;28;01mfrom\u001B[39;00m \u001B[38;5;21;01mcopy\u001B[39;00m \u001B[38;5;28;01mimport\u001B[39;00m deepcopy\n\u001B[1;32m     43\u001B[0m \u001B[38;5;28;01mfrom\u001B[39;00m \u001B[38;5;21;01mpathlib\u001B[39;00m \u001B[38;5;28;01mimport\u001B[39;00m Path\n\u001B[0;32m---> 44\u001B[0m \u001B[38;5;28;01mfrom\u001B[39;00m \u001B[38;5;21;01muquake\u001B[39;00m\u001B[38;5;21;01m.\u001B[39;00m\u001B[38;5;21;01mcore\u001B[39;00m\u001B[38;5;21;01m.\u001B[39;00m\u001B[38;5;21;01mcoordinates\u001B[39;00m \u001B[38;5;28;01mimport\u001B[39;00m Coordinates, CoordinateSystem\n\u001B[1;32m     45\u001B[0m \u001B[38;5;28;01mfrom\u001B[39;00m \u001B[38;5;21;01muquake\u001B[39;00m\u001B[38;5;21;01m.\u001B[39;00m\u001B[38;5;21;01mcore\u001B[39;00m\u001B[38;5;21;01m.\u001B[39;00m\u001B[38;5;21;01mutil\u001B[39;00m\u001B[38;5;21;01m.\u001B[39;00m\u001B[38;5;21;01mdecorators\u001B[39;00m \u001B[38;5;28;01mimport\u001B[39;00m update_doc\n\u001B[1;32m     46\u001B[0m \u001B[38;5;28;01mimport\u001B[39;00m \u001B[38;5;21;01mjson\u001B[39;00m\n",
      "File \u001B[0;32m~/repos/museis.ai/uquake/uquake/core/coordinates.py:19\u001B[0m\n\u001B[1;32m     17\u001B[0m \u001B[38;5;28;01mimport\u001B[39;00m \u001B[38;5;21;01mjson\u001B[39;00m\n\u001B[1;32m     18\u001B[0m \u001B[38;5;28;01mfrom\u001B[39;00m \u001B[38;5;21;01mobspy\u001B[39;00m\u001B[38;5;21;01m.\u001B[39;00m\u001B[38;5;21;01mcore\u001B[39;00m\u001B[38;5;21;01m.\u001B[39;00m\u001B[38;5;21;01mutil\u001B[39;00m \u001B[38;5;28;01mimport\u001B[39;00m AttribDict\n\u001B[0;32m---> 19\u001B[0m \u001B[38;5;28;01mimport\u001B[39;00m \u001B[38;5;21;01mutm\u001B[39;00m\n\u001B[1;32m     20\u001B[0m \u001B[38;5;28;01mimport\u001B[39;00m \u001B[38;5;21;01mpyproj\u001B[39;00m\n\u001B[1;32m     21\u001B[0m \u001B[38;5;28;01mimport\u001B[39;00m \u001B[38;5;21;01mnumpy\u001B[39;00m \u001B[38;5;28;01mas\u001B[39;00m \u001B[38;5;21;01mnp\u001B[39;00m\n",
      "\u001B[0;31mModuleNotFoundError\u001B[0m: No module named 'utm'"
     ]
    }
   ],
   "source": [
    "from uquake.core.inventory import GenericSensor, Device"
   ],
   "metadata": {
    "collapsed": false,
    "ExecuteTime": {
     "end_time": "2025-02-25T16:57:08.055781Z",
     "start_time": "2025-02-25T16:57:07.432809Z"
    }
   }
  },
  {
   "cell_type": "code",
   "execution_count": 1,
   "metadata": {
    "collapsed": true,
    "ExecuteTime": {
     "end_time": "2025-02-25T16:26:26.670541Z",
     "start_time": "2025-02-25T16:26:26.283729Z"
    }
   },
   "outputs": [
    {
     "ename": "NameError",
     "evalue": "name 'GenericSensor' is not defined",
     "output_type": "error",
     "traceback": [
      "\u001B[0;31m---------------------------------------------------------------------------\u001B[0m",
      "\u001B[0;31mNameError\u001B[0m                                 Traceback (most recent call last)",
      "Cell \u001B[0;32mIn[1], line 1\u001B[0m\n\u001B[0;32m----> 1\u001B[0m gs \u001B[38;5;241m=\u001B[39m \u001B[43mGenericSensor\u001B[49m(sensor_type\u001B[38;5;241m=\u001B[39m\u001B[38;5;124m'\u001B[39m\u001B[38;5;124mgeophone\u001B[39m\u001B[38;5;124m'\u001B[39m, model\u001B[38;5;241m=\u001B[39m\u001B[38;5;124m'\u001B[39m\u001B[38;5;124mPS-2B\u001B[39m\u001B[38;5;124m'\u001B[39m, input_units\u001B[38;5;241m=\u001B[39m\u001B[38;5;124m'\u001B[39m\u001B[38;5;124mM/S\u001B[39m\u001B[38;5;124m'\u001B[39m, output_units\u001B[38;5;241m=\u001B[39m\u001B[38;5;124m'\u001B[39m\u001B[38;5;124mM/S\u001B[39m\u001B[38;5;124m'\u001B[39m, natural_frequency\u001B[38;5;241m=\u001B[39m\u001B[38;5;241m5\u001B[39m, sensitivity\u001B[38;5;241m=\u001B[39m\u001B[38;5;241m80\u001B[39m, damping\u001B[38;5;241m=\u001B[39m\u001B[38;5;241m0.707\u001B[39m)\n\u001B[1;32m      3\u001B[0m sys \u001B[38;5;241m=\u001B[39m System(sensor\u001B[38;5;241m=\u001B[39mgs, name\u001B[38;5;241m=\u001B[39m\u001B[38;5;124m'\u001B[39m\u001B[38;5;124mNuSeis\u001B[39m\u001B[38;5;124m'\u001B[39m, \u001B[38;5;28mtype\u001B[39m\u001B[38;5;241m=\u001B[39m\u001B[38;5;124m'\u001B[39m\u001B[38;5;124mNodal Geophone\u001B[39m\u001B[38;5;124m'\u001B[39m, manufacturer\u001B[38;5;241m=\u001B[39m\u001B[38;5;124m'\u001B[39m\u001B[38;5;124mGTI\u001B[39m\u001B[38;5;124m'\u001B[39m, vendor\u001B[38;5;241m=\u001B[39m\u001B[38;5;124m'\u001B[39m\u001B[38;5;124mGTI\u001B[39m\u001B[38;5;124m'\u001B[39m, model\u001B[38;5;241m=\u001B[39m\u001B[38;5;124m'\u001B[39m\u001B[38;5;124mNuSeis D3\u001B[39m\u001B[38;5;124m'\u001B[39m, serial_number\u001B[38;5;241m=\u001B[39m\u001B[38;5;241m12345\u001B[39m)\n\u001B[1;32m      5\u001B[0m response \u001B[38;5;241m=\u001B[39m sys\u001B[38;5;241m.\u001B[39mresponse\n",
      "\u001B[0;31mNameError\u001B[0m: name 'GenericSensor' is not defined"
     ]
    }
   ],
   "source": [
    " gs = GenericSensor(sensor_type='geophone', model='PS-2B', input_units='M/S', output_units='M/S', natural_frequency=5, sensitivity=80, damping=0.707)\n",
    "\n",
    "sys = Device(sensor=gs, name='NuSeis', type='Nodal Geophone', manufacturer='GTI', vendor='GTI', model='NuSeis D3', serial_number=12345)\n",
    "\n",
    "response = sys.response\n",
    "\n",
    "response.plot(min_freq=0.1, sampling_rate=50)"
   ]
  },
  {
   "cell_type": "code",
   "execution_count": null,
   "outputs": [],
   "source": [],
   "metadata": {
    "collapsed": false
   }
  }
 ],
 "metadata": {
  "kernelspec": {
   "display_name": "Python 3",
   "language": "python",
   "name": "python3"
  },
  "language_info": {
   "codemirror_mode": {
    "name": "ipython",
    "version": 2
   },
   "file_extension": ".py",
   "mimetype": "text/x-python",
   "name": "python",
   "nbconvert_exporter": "python",
   "pygments_lexer": "ipython2",
   "version": "2.7.6"
  }
 },
 "nbformat": 4,
 "nbformat_minor": 0
}
