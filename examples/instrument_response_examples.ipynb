{
 "cells": [
  {
   "cell_type": "code",
   "execution_count": null,
   "outputs": [],
   "source": [
    "from uquake.core.inventory import GenericSensor, System"
   ],
   "metadata": {
    "collapsed": false,
    "is_executing": true
   }
  },
  {
   "cell_type": "code",
   "execution_count": 1,
   "metadata": {
    "collapsed": true,
    "ExecuteTime": {
     "end_time": "2025-02-25T16:26:26.670541Z",
     "start_time": "2025-02-25T16:26:26.283729Z"
    }
   },
   "outputs": [
    {
     "ename": "NameError",
     "evalue": "name 'GenericSensor' is not defined",
     "output_type": "error",
     "traceback": [
      "\u001B[0;31m---------------------------------------------------------------------------\u001B[0m",
      "\u001B[0;31mNameError\u001B[0m                                 Traceback (most recent call last)",
      "Cell \u001B[0;32mIn[1], line 1\u001B[0m\n\u001B[0;32m----> 1\u001B[0m gs \u001B[38;5;241m=\u001B[39m \u001B[43mGenericSensor\u001B[49m(sensor_type\u001B[38;5;241m=\u001B[39m\u001B[38;5;124m'\u001B[39m\u001B[38;5;124mgeophone\u001B[39m\u001B[38;5;124m'\u001B[39m, model\u001B[38;5;241m=\u001B[39m\u001B[38;5;124m'\u001B[39m\u001B[38;5;124mPS-2B\u001B[39m\u001B[38;5;124m'\u001B[39m, input_units\u001B[38;5;241m=\u001B[39m\u001B[38;5;124m'\u001B[39m\u001B[38;5;124mM/S\u001B[39m\u001B[38;5;124m'\u001B[39m, output_units\u001B[38;5;241m=\u001B[39m\u001B[38;5;124m'\u001B[39m\u001B[38;5;124mM/S\u001B[39m\u001B[38;5;124m'\u001B[39m, natural_frequency\u001B[38;5;241m=\u001B[39m\u001B[38;5;241m5\u001B[39m, sensitivity\u001B[38;5;241m=\u001B[39m\u001B[38;5;241m80\u001B[39m, damping\u001B[38;5;241m=\u001B[39m\u001B[38;5;241m0.707\u001B[39m)\n\u001B[1;32m      3\u001B[0m sys \u001B[38;5;241m=\u001B[39m System(sensor\u001B[38;5;241m=\u001B[39mgs, name\u001B[38;5;241m=\u001B[39m\u001B[38;5;124m'\u001B[39m\u001B[38;5;124mNuSeis\u001B[39m\u001B[38;5;124m'\u001B[39m, \u001B[38;5;28mtype\u001B[39m\u001B[38;5;241m=\u001B[39m\u001B[38;5;124m'\u001B[39m\u001B[38;5;124mNodal Geophone\u001B[39m\u001B[38;5;124m'\u001B[39m, manufacturer\u001B[38;5;241m=\u001B[39m\u001B[38;5;124m'\u001B[39m\u001B[38;5;124mGTI\u001B[39m\u001B[38;5;124m'\u001B[39m, vendor\u001B[38;5;241m=\u001B[39m\u001B[38;5;124m'\u001B[39m\u001B[38;5;124mGTI\u001B[39m\u001B[38;5;124m'\u001B[39m, model\u001B[38;5;241m=\u001B[39m\u001B[38;5;124m'\u001B[39m\u001B[38;5;124mNuSeis D3\u001B[39m\u001B[38;5;124m'\u001B[39m, serial_number\u001B[38;5;241m=\u001B[39m\u001B[38;5;241m12345\u001B[39m)\n\u001B[1;32m      5\u001B[0m response \u001B[38;5;241m=\u001B[39m sys\u001B[38;5;241m.\u001B[39mresponse\n",
      "\u001B[0;31mNameError\u001B[0m: name 'GenericSensor' is not defined"
     ]
    }
   ],
   "source": [
    " gs = GenericSensor(sensor_type='geophone', model='PS-2B', input_units='M/S', output_units='M/S', natural_frequency=5, sensitivity=80, damping=0.707)\n",
    "\n",
    "sys = System(sensor=gs, name='NuSeis', type='Nodal Geophone', manufacturer='GTI', vendor='GTI', model='NuSeis D3', serial_number=12345)\n",
    "\n",
    "response = sys.response\n",
    "\n",
    "response.plot(min_freq=0.1, sampling_rate=50)"
   ]
  },
  {
   "cell_type": "code",
   "execution_count": null,
   "outputs": [],
   "source": [],
   "metadata": {
    "collapsed": false
   }
  }
 ],
 "metadata": {
  "kernelspec": {
   "display_name": "Python 3",
   "language": "python",
   "name": "python3"
  },
  "language_info": {
   "codemirror_mode": {
    "name": "ipython",
    "version": 2
   },
   "file_extension": ".py",
   "mimetype": "text/x-python",
   "name": "python",
   "nbconvert_exporter": "python",
   "pygments_lexer": "ipython2",
   "version": "2.7.6"
  }
 },
 "nbformat": 4,
 "nbformat_minor": 0
}
