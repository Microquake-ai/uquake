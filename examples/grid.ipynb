{
 "cells": [
  {
   "cell_type": "code",
   "execution_count": 1,
   "metadata": {},
   "source": [
    "from uquake.grid.nlloc import VelocityGrid3D\n",
    "import numpy as np\n",
    "import matplotlib.pyplot as plt"
   ],
   "outputs": []
  },
  {
   "cell_type": "code",
   "execution_count": 2,
   "metadata": {},
   "source": [
    "mean_vp = 5000\n",
    "std_vp = 100\n",
    "mean_vs = mean_vp / np.sqrt(3)\n",
    "std_vs = std_vp / np.sqrt(3)\n",
    "\n",
    "origin = (0, 0, 0)\n",
    "spacing = (10, 10, 10)\n",
    "p_velocity = np.random.randn(100, 100, 100) * std_vp + mean_vp\n",
    "s_velocity = np.random.randn(100, 100, 100) * std_vs + mean_vs\n",
    "\n",
    "print(np.max(p_velocity))\n",
    "network_code = 'XX'"
   ],
   "outputs": []
  },
  {
   "cell_type": "code",
   "execution_count": 3,
   "metadata": {},
   "source": [
    "# create a 3d velocity model grid\n",
    "p_velocity_3d = VelocityGrid3D(network_code, p_velocity, origin, spacing).smooth(50)\n",
    "s_velocity_3d = VelocityGrid3D(network_code, s_velocity, origin, spacing).smooth(50)\n",
    "\n",
    "plt.imshow(p_velocity_3d[:, :, 50], cmap='seismic')\n",
    "plt.colorbar()"
   ],
   "outputs": []
  },
  {
   "cell_type": "code",
   "execution_count": null,
   "metadata": {},
   "source": [
    "# generate an event and a sensor\n",
    "\n",
    "p_velocity_3d\n"
   ],
   "outputs": []
  },
  {
   "cell_type": "code",
   "execution_count": null,
   "metadata": {},
   "source": [],
   "outputs": []
  },
  {
   "cell_type": "code",
   "execution_count": null,
   "metadata": {},
   "source": [],
   "outputs": []
  }
 ],
 "metadata": {
  "kernelspec": {
   "display_name": "Python 3 (ipykernel)",
   "language": "python",
   "name": "python3"
  },
  "language_info": {
   "codemirror_mode": {
    "name": "ipython",
    "version": 3
   },
   "file_extension": ".py",
   "mimetype": "text/x-python",
   "name": "python",
   "nbconvert_exporter": "python",
   "pygments_lexer": "ipython3",
   "version": "3.10.6"
  }
 },
 "nbformat": 4,
 "nbformat_minor": 4
}
